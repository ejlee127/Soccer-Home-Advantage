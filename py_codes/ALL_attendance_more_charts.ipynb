{
 "cells": [
  {
   "cell_type": "markdown",
   "metadata": {},
   "source": [
    "## Audience Imact on Games in Europe 2019-20"
   ]
  },
  {
   "cell_type": "code",
   "execution_count": 2,
   "metadata": {},
   "outputs": [],
   "source": [
    "import pandas as pd\n",
    "import matplotlib.pyplot as plt\n",
    "import numpy as np\n",
    "from scipy.stats import linregress"
   ]
  },
  {
   "cell_type": "code",
   "execution_count": 3,
   "metadata": {},
   "outputs": [],
   "source": [
    "# The data files for each league\n",
    "epl_att_data = \"../final-resources/EPL/EPL_scores_attendances.csv\"\n",
    "bun_att_data = \"../final-resources/BUN/BUN_scores_attendances.csv\"\n",
    "lig_att_data = \"../final-resources/LIG/LIG_scores_attendances.csv\"\n",
    "ser_att_data = \"../final-resources/SER/SER_scores_attendances.csv\"\n",
    "images_path = \"../images/\""
   ]
  },
  {
   "cell_type": "markdown",
   "metadata": {},
   "source": [
    "### Setting and Functions for charts"
   ]
  },
  {
   "cell_type": "code",
   "execution_count": 12,
   "metadata": {},
   "outputs": [],
   "source": [
    "# The following columns will be selected from the dataset\n",
    "cols = [\"Date\",\n",
    "    \"HomeTeam\",\n",
    "    \"HomeTeam ID\", \n",
    "    \"HomeScore\",\n",
    "    \"AwayTeam\",\n",
    "    \"AwayTeam ID\",\n",
    "    \"AwayScore\", \n",
    "    \"Result\",\n",
    "    \"Attendance\"]\n",
    "\n",
    "# Data cleaning (fillna, types) and print summary numbers\n",
    "def Summary(df, league):\n",
    "    \n",
    "    ndf = df.fillna(0)\n",
    "    s = ndf[\"Attendance\"]\n",
    "    if s.dtype == 'object':\n",
    "        ndf[\"Attendance\"] = s.str.replace(',', '').astype(float)\n",
    "    \n",
    "    # The total number of matches of the 'league' in 2019-20\n",
    "    total = len(ndf['Date'])\n",
    "\n",
    "    # The number of matches after COVID-19\n",
    "    Covid_date = \"2020-04-01\"\n",
    "    after = len(ndf.loc[ndf[\"Date\"] > Covid_date])\n",
    "    if league == \"All\":\n",
    "        print(f\"The number of matches of {league} teams until {ndf['Date'].at[total -1]} is {total}\")\n",
    "        print(f\"The number of matches of {league} teams after COVID-19 is {after}\")\n",
    "    return ndf"
   ]
  },
  {
   "cell_type": "code",
   "execution_count": 13,
   "metadata": {},
   "outputs": [
    {
     "name": "stdout",
     "output_type": "stream",
     "text": [
      "The number of matches of All teams until 2020-07-13 is 1337\n",
      "The number of matches of All teams after COVID-19 is 298\n"
     ]
    },
    {
     "data": {
      "text/html": [
       "<div>\n",
       "<style scoped>\n",
       "    .dataframe tbody tr th:only-of-type {\n",
       "        vertical-align: middle;\n",
       "    }\n",
       "\n",
       "    .dataframe tbody tr th {\n",
       "        vertical-align: top;\n",
       "    }\n",
       "\n",
       "    .dataframe thead th {\n",
       "        text-align: right;\n",
       "    }\n",
       "</style>\n",
       "<table border=\"1\" class=\"dataframe\">\n",
       "  <thead>\n",
       "    <tr style=\"text-align: right;\">\n",
       "      <th></th>\n",
       "      <th>HomeScore</th>\n",
       "      <th>AwayScore</th>\n",
       "      <th>Attendance</th>\n",
       "    </tr>\n",
       "  </thead>\n",
       "  <tbody>\n",
       "    <tr>\n",
       "      <th>count</th>\n",
       "      <td>1337.000000</td>\n",
       "      <td>1337.000000</td>\n",
       "      <td>1337.000000</td>\n",
       "    </tr>\n",
       "    <tr>\n",
       "      <th>mean</th>\n",
       "      <td>1.545251</td>\n",
       "      <td>1.284966</td>\n",
       "      <td>21806.175019</td>\n",
       "    </tr>\n",
       "    <tr>\n",
       "      <th>std</th>\n",
       "      <td>1.280178</td>\n",
       "      <td>1.205162</td>\n",
       "      <td>22810.755768</td>\n",
       "    </tr>\n",
       "    <tr>\n",
       "      <th>min</th>\n",
       "      <td>0.000000</td>\n",
       "      <td>0.000000</td>\n",
       "      <td>0.000000</td>\n",
       "    </tr>\n",
       "    <tr>\n",
       "      <th>25%</th>\n",
       "      <td>1.000000</td>\n",
       "      <td>0.000000</td>\n",
       "      <td>0.000000</td>\n",
       "    </tr>\n",
       "    <tr>\n",
       "      <th>50%</th>\n",
       "      <td>1.000000</td>\n",
       "      <td>1.000000</td>\n",
       "      <td>17547.000000</td>\n",
       "    </tr>\n",
       "    <tr>\n",
       "      <th>75%</th>\n",
       "      <td>2.000000</td>\n",
       "      <td>2.000000</td>\n",
       "      <td>38517.000000</td>\n",
       "    </tr>\n",
       "    <tr>\n",
       "      <th>max</th>\n",
       "      <td>8.000000</td>\n",
       "      <td>9.000000</td>\n",
       "      <td>93426.000000</td>\n",
       "    </tr>\n",
       "  </tbody>\n",
       "</table>\n",
       "</div>"
      ],
      "text/plain": [
       "         HomeScore    AwayScore    Attendance\n",
       "count  1337.000000  1337.000000   1337.000000\n",
       "mean      1.545251     1.284966  21806.175019\n",
       "std       1.280178     1.205162  22810.755768\n",
       "min       0.000000     0.000000      0.000000\n",
       "25%       1.000000     0.000000      0.000000\n",
       "50%       1.000000     1.000000  17547.000000\n",
       "75%       2.000000     2.000000  38517.000000\n",
       "max       8.000000     9.000000  93426.000000"
      ]
     },
     "execution_count": 13,
     "metadata": {},
     "output_type": "execute_result"
    }
   ],
   "source": [
    "# Load league data and clean-up\n",
    "epl_all_data_df = pd.read_csv(epl_att_data)\n",
    "bun_all_data_df = pd.read_csv(bun_att_data)\n",
    "lig_all_data_df = pd.read_csv(lig_att_data)\n",
    "ser_all_data_df = pd.read_csv(ser_att_data)\n",
    "epl_df = Summary(epl_all_data_df, \"EPL\")\n",
    "bun_df = Summary(bun_all_data_df, \"BUN\")\n",
    "lig_df = Summary(lig_all_data_df, \"LIG\")\n",
    "ser_df = Summary(ser_all_data_df, \"SER\")\n",
    "\n",
    "# Combine four datasets to create the dataset for all matches\n",
    "all_df = epl_df.append(bun_df, ignore_index=True)\n",
    "all_df = all_df.append(lig_df, ignore_index=True)\n",
    "all_df = all_df.append(ser_df, ignore_index=True)\n",
    "all_df = Summary(all_df, \"All\")\n",
    "all_df.describe()"
   ]
  },
  {
   "cell_type": "code",
   "execution_count": 17,
   "metadata": {},
   "outputs": [
    {
     "data": {
      "text/plain": [
       "<matplotlib.axes._subplots.AxesSubplot at 0x7fd9c788ee80>"
      ]
     },
     "execution_count": 17,
     "metadata": {},
     "output_type": "execute_result"
    },
    {
     "data": {
      "image/png": "[encoded data removed]",
      "text/plain": [
       "<Figure size 432x288 with 1 Axes>"
      ]
     },
     "metadata": {
      "needs_background": "light"
     },
     "output_type": "display_data"
    }
   ],
   "source": [
    "result_df = all_df.groupby(\"Result\")[\"Attendance\"].mean().reset_index()\n",
    "result_df.plot(kind=\"hist\")"
   ]
  },
  {
   "cell_type": "code",
   "execution_count": null,
   "metadata": {},
   "outputs": [],
   "source": []
  }
 ],
 "metadata": {
  "kernelspec": {
   "display_name": "Python 3.6.10 64-bit ('PythonData': conda)",
   "language": "python",
   "name": "python361064bitpythondatacondac32fb4695c664fa9afac8681922271ab"
  },
  "language_info": {
   "codemirror_mode": {
    "name": "ipython",
    "version": 3
   },
   "file_extension": ".py",
   "mimetype": "text/x-python",
   "name": "python",
   "nbconvert_exporter": "python",
   "pygments_lexer": "ipython3",
   "version": "3.6.10"
  }
 },
 "nbformat": 4,
 "nbformat_minor": 4
}
