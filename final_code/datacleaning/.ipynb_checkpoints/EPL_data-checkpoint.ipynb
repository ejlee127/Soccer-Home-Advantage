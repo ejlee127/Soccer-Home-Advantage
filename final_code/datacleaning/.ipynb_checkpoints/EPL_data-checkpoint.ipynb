{
 "cells": [
  {
   "cell_type": "markdown",
   "metadata": {},
   "source": [
    "## Combine attendances & scores dataframes"
   ]
  },
  {
   "cell_type": "code",
   "execution_count": 1,
   "metadata": {},
   "outputs": [],
   "source": [
    "import pandas as pd\n",
    "import os"
   ]
  },
  {
   "cell_type": "code",
   "execution_count": 2,
   "metadata": {},
   "outputs": [],
   "source": [
    "epl_path = \"../../Resources/EPL_teams/\"\n",
    "score_file = os.path.join(epl_path, \"england_test_city.csv\")\n",
    "home_att_file = os.path.join(epl_path, \"England_home_allmatches_att.csv\")\n",
    "output_file = os.path.join(epl_path, \"EPL_scores_attendances.csv\")"
   ]
  },
  {
   "cell_type": "code",
   "execution_count": 7,
   "metadata": {},
   "outputs": [],
   "source": [
    "# Date string format\n",
    "def Format_Date(df):\n",
    "    # df is series with the key \"Date\"\n",
    "    # expressed as month/day/year\n",
    "    df2 = df.copy()\n",
    "    one_digit = [str(i) for i in range(10)]\n",
    "    for i, val in df.items():\n",
    "        dates = val.split(\"/\")\n",
    "        if dates[0] in one_digit:\n",
    "            dates[0] = \"0\"+dates[0]\n",
    "        if dates[1] in one_digit:\n",
    "            dates[1] = \"0\"+dates[1]\n",
    "        if dates[2] == \"19\" or dates[2] == \"20\":\n",
    "            dates[2] = \"20\"+dates[2]\n",
    "        df2.loc[i] = dates[2]+\"-\"+dates[1]+\"-\"+dates[0]\n",
    "    return df2"
   ]
  },
  {
   "cell_type": "code",
   "execution_count": 4,
   "metadata": {},
   "outputs": [
    {
     "data": {
      "text/html": [
       "<div>\n",
       "<style scoped>\n",
       "    .dataframe tbody tr th:only-of-type {\n",
       "        vertical-align: middle;\n",
       "    }\n",
       "\n",
       "    .dataframe tbody tr th {\n",
       "        vertical-align: top;\n",
       "    }\n",
       "\n",
       "    .dataframe thead th {\n",
       "        text-align: right;\n",
       "    }\n",
       "</style>\n",
       "<table border=\"1\" class=\"dataframe\">\n",
       "  <thead>\n",
       "    <tr style=\"text-align: right;\">\n",
       "      <th></th>\n",
       "      <th>Div</th>\n",
       "      <th>Date</th>\n",
       "      <th>Time</th>\n",
       "      <th>HomeTeam</th>\n",
       "      <th>AwayTeam</th>\n",
       "      <th>HomeScore</th>\n",
       "      <th>AwayScore</th>\n",
       "      <th>Result</th>\n",
       "      <th>HomeTeam ID</th>\n",
       "      <th>AwayTeam ID</th>\n",
       "      <th>City</th>\n",
       "    </tr>\n",
       "  </thead>\n",
       "  <tbody>\n",
       "    <tr>\n",
       "      <th>0</th>\n",
       "      <td>E0</td>\n",
       "      <td>9/8/19</td>\n",
       "      <td>20:00</td>\n",
       "      <td>Liverpool</td>\n",
       "      <td>Norwich</td>\n",
       "      <td>4</td>\n",
       "      <td>1</td>\n",
       "      <td>H</td>\n",
       "      <td>EPL9</td>\n",
       "      <td>EPL13</td>\n",
       "      <td>Liverpool</td>\n",
       "    </tr>\n",
       "    <tr>\n",
       "      <th>1</th>\n",
       "      <td>E0</td>\n",
       "      <td>10/8/19</td>\n",
       "      <td>12:30</td>\n",
       "      <td>West Ham</td>\n",
       "      <td>Man City</td>\n",
       "      <td>0</td>\n",
       "      <td>5</td>\n",
       "      <td>A</td>\n",
       "      <td>EPL18</td>\n",
       "      <td>EPL10</td>\n",
       "      <td>London</td>\n",
       "    </tr>\n",
       "    <tr>\n",
       "      <th>2</th>\n",
       "      <td>E0</td>\n",
       "      <td>10/8/19</td>\n",
       "      <td>15:00</td>\n",
       "      <td>Bournemouth</td>\n",
       "      <td>Sheffield United</td>\n",
       "      <td>1</td>\n",
       "      <td>1</td>\n",
       "      <td>D</td>\n",
       "      <td>EPL2</td>\n",
       "      <td>EPL14</td>\n",
       "      <td>Bournemouth</td>\n",
       "    </tr>\n",
       "    <tr>\n",
       "      <th>3</th>\n",
       "      <td>E0</td>\n",
       "      <td>10/8/19</td>\n",
       "      <td>15:00</td>\n",
       "      <td>Burnley</td>\n",
       "      <td>Southampton</td>\n",
       "      <td>3</td>\n",
       "      <td>0</td>\n",
       "      <td>H</td>\n",
       "      <td>EPL4</td>\n",
       "      <td>EPL15</td>\n",
       "      <td>Burnley</td>\n",
       "    </tr>\n",
       "    <tr>\n",
       "      <th>4</th>\n",
       "      <td>E0</td>\n",
       "      <td>10/8/19</td>\n",
       "      <td>15:00</td>\n",
       "      <td>Crystal Palace</td>\n",
       "      <td>Everton</td>\n",
       "      <td>0</td>\n",
       "      <td>0</td>\n",
       "      <td>D</td>\n",
       "      <td>EPL6</td>\n",
       "      <td>EPL7</td>\n",
       "      <td>London</td>\n",
       "    </tr>\n",
       "  </tbody>\n",
       "</table>\n",
       "</div>"
      ],
      "text/plain": [
       "  Div     Date   Time        HomeTeam          AwayTeam  HomeScore  AwayScore  \\\n",
       "0  E0   9/8/19  20:00       Liverpool           Norwich          4          1   \n",
       "1  E0  10/8/19  12:30        West Ham          Man City          0          5   \n",
       "2  E0  10/8/19  15:00     Bournemouth  Sheffield United          1          1   \n",
       "3  E0  10/8/19  15:00         Burnley       Southampton          3          0   \n",
       "4  E0  10/8/19  15:00  Crystal Palace           Everton          0          0   \n",
       "\n",
       "  Result HomeTeam ID AwayTeam ID         City  \n",
       "0      H        EPL9       EPL13    Liverpool  \n",
       "1      A       EPL18       EPL10       London  \n",
       "2      D        EPL2       EPL14  Bournemouth  \n",
       "3      H        EPL4       EPL15      Burnley  \n",
       "4      D        EPL6        EPL7       London  "
      ]
     },
     "execution_count": 4,
     "metadata": {},
     "output_type": "execute_result"
    }
   ],
   "source": [
    "scores_df = pd.read_csv(score_file)\n",
    "scores_df.head()"
   ]
  },
  {
   "cell_type": "code",
   "execution_count": 5,
   "metadata": {},
   "outputs": [],
   "source": [
    "home_att_df = pd.read_csv(home_att_file)\n",
    "att_df = home_att_df[[\"Team ID\", \"Date\", \"Opponent\", \"Attendance\"]]"
   ]
  },
  {
   "cell_type": "code",
   "execution_count": 9,
   "metadata": {},
   "outputs": [
    {
     "name": "stderr",
     "output_type": "stream",
     "text": [
      "/opt/anaconda3/envs/PythonData/lib/python3.6/site-packages/ipykernel_launcher.py:3: SettingWithCopyWarning: \n",
      "A value is trying to be set on a copy of a slice from a DataFrame.\n",
      "Try using .loc[row_indexer,col_indexer] = value instead\n",
      "\n",
      "See the caveats in the documentation: https://pandas.pydata.org/pandas-docs/stable/user_guide/indexing.html#returning-a-view-versus-a-copy\n",
      "  This is separate from the ipykernel package so we can avoid doing imports until\n"
     ]
    }
   ],
   "source": [
    "#Convert 'Date' column to unified format\n",
    "scores_df[\"Date\"] = Format_Date(scores_df[\"Date\"])\n",
    "att_df[\"Date\"] = Format_Date(att_df[\"Date\"])"
   ]
  },
  {
   "cell_type": "code",
   "execution_count": 10,
   "metadata": {},
   "outputs": [],
   "source": [
    "# Groupby team: We will need to merge on Date.\n",
    "# But, the score frame has several same values on Date column.\n",
    "# To have unique values, we work on each team.\n",
    "gp_scores = scores_df.groupby(\"HomeTeam ID\")\n",
    "gp_att = att_df.groupby(\"Team ID\")\n",
    "\n",
    "# The number of teams in this league\n",
    "L = len(gp_scores.indices)\n",
    "\n",
    "# For each team, merge two dataframes on Date and then append them.\n",
    "scores_att = pd.DataFrame()\n",
    "for i in range(L):\n",
    "    gp_id = \"EPL\"+str(i)\n",
    "    sc_df = gp_scores.get_group(gp_id)\n",
    "    at_df = gp_att.get_group(gp_id)\n",
    "    all_df = pd.merge(sc_df, at_df, on=\"Date\", how=\"left\")\n",
    "    scores_att = scores_att.append(all_df)"
   ]
  },
  {
   "cell_type": "code",
   "execution_count": 15,
   "metadata": {},
   "outputs": [],
   "source": [
    "scores_att.sort_values(by=\"Date\", inplace=True)"
   ]
  },
  {
   "cell_type": "code",
   "execution_count": 17,
   "metadata": {},
   "outputs": [],
   "source": [
    "scores_att.to_csv(output_file, index=False)"
   ]
  },
  {
   "cell_type": "code",
   "execution_count": null,
   "metadata": {},
   "outputs": [],
   "source": []
  }
 ],
 "metadata": {
  "kernelspec": {
   "display_name": "Python [conda env:PythonData] *",
   "language": "python",
   "name": "conda-env-PythonData-py"
  },
  "language_info": {
   "codemirror_mode": {
    "name": "ipython",
    "version": 3
   },
   "file_extension": ".py",
   "mimetype": "text/x-python",
   "name": "python",
   "nbconvert_exporter": "python",
   "pygments_lexer": "ipython3",
   "version": "3.6.10"
  }
 },
 "nbformat": 4,
 "nbformat_minor": 4
}
